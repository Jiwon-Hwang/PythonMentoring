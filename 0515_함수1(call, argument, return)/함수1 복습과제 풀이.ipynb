{
 "cells": [
  {
   "cell_type": "code",
   "execution_count": 5,
   "metadata": {},
   "outputs": [
    {
     "name": "stdout",
     "output_type": "stream",
     "text": [
      "5\n"
     ]
    },
    {
     "data": {
      "text/plain": [
       "False"
      ]
     },
     "execution_count": 5,
     "metadata": {},
     "output_type": "execute_result"
    }
   ],
   "source": [
    "def isIncluded(num):\n",
    "    num_list = [1,2,3,6,7,9]\n",
    "    while num in num_list:\n",
    "        #print(num) ==> num = 5\n",
    "        return True\n",
    "    return False\n",
    "\n",
    "num = int(input())\n",
    "\n",
    "isIncluded(num)"
   ]
  },
  {
   "cell_type": "code",
   "execution_count": 6,
   "metadata": {},
   "outputs": [
    {
     "name": "stdout",
     "output_type": "stream",
     "text": [
      "5\n"
     ]
    },
    {
     "data": {
      "text/plain": [
       "True"
      ]
     },
     "execution_count": 6,
     "metadata": {},
     "output_type": "execute_result"
    }
   ],
   "source": [
    "def isIncluded(num):\n",
    "    num_list = [1,2,3,6,7,9]\n",
    "    for num in num_list:\n",
    "        #print(num) ==> num = 1\n",
    "        return True\n",
    "    return False\n",
    "\n",
    "num = int(input())\n",
    "\n",
    "isIncluded(num)\n",
    "\n",
    "# for문은 while문과 다르게, 반복가능한 변수(리스트)의 첫번째 요소부터 마지막 요소까지 쭉 차례대로 담음 \n",
    "# 따라서 for문에서 num = [1,2,3,6,7,9]\n",
    "# while문은 그냥 '조건'의 참, 거짓 여부를 판단 ==> 따라서 while문에서 num = 5를 담고서 체크"
   ]
  },
  {
   "cell_type": "code",
   "execution_count": 11,
   "metadata": {},
   "outputs": [
    {
     "name": "stdout",
     "output_type": "stream",
     "text": [
      "1 2 3 4\n",
      "1 2 3 4 <class 'str'> ['1', '2', '3', '4']\n"
     ]
    }
   ],
   "source": [
    "num = input()\n",
    "print(num, type(num), num.split(' '))\n"
   ]
  },
  {
   "cell_type": "code",
   "execution_count": 12,
   "metadata": {},
   "outputs": [
    {
     "name": "stdout",
     "output_type": "stream",
     "text": [
      "3\n",
      "14\n"
     ]
    }
   ],
   "source": [
    "def total(*numbers):\n",
    "    tot = 0\n",
    "    for n in numbers:\n",
    "        tot += n\n",
    "    return tot\n",
    " \n",
    "t = total(1,2)\n",
    "print(t)\n",
    "t = total(1,5,2,6)\n",
    "print(t)"
   ]
  },
  {
   "cell_type": "code",
   "execution_count": 13,
   "metadata": {},
   "outputs": [
    {
     "name": "stdout",
     "output_type": "stream",
     "text": [
      "4 14\n"
     ]
    }
   ],
   "source": [
    "def calc(*numbers):\n",
    "    count = 0\n",
    "    tot = 0\n",
    "    for n in numbers:\n",
    "        count += 1\n",
    "        tot += n\n",
    "    return count, tot\n",
    " \n",
    "count, sum = calc(1,5,2,6)  # (count, tot) 튜플을 리턴\n",
    "print(count, sum)"
   ]
  },
  {
   "cell_type": "code",
   "execution_count": 24,
   "metadata": {},
   "outputs": [
    {
     "name": "stdout",
     "output_type": "stream",
     "text": [
      "2\n",
      "zz\n"
     ]
    }
   ],
   "source": [
    "def func(*args, **dic):\n",
    "    print(args[1])\n",
    "    print(dic['z'])\n",
    "    \n",
    "func(1, 2, 3, x='xx', y='yy', z='zz')"
   ]
  },
  {
   "cell_type": "code",
   "execution_count": 26,
   "metadata": {},
   "outputs": [
    {
     "name": "stdout",
     "output_type": "stream",
     "text": [
      "5입니다.\n",
      "None\n"
     ]
    }
   ],
   "source": [
    "def not_ten(a):\n",
    "    if a == 10:\n",
    "        return\n",
    "    print('%d입니다.' %a)\n",
    "\n",
    "not_ten(5)\n",
    "print(not_ten(10))"
   ]
  }
 ],
 "metadata": {
  "kernelspec": {
   "display_name": "Python 3",
   "language": "python",
   "name": "python3"
  },
  "language_info": {
   "codemirror_mode": {
    "name": "ipython",
    "version": 3
   },
   "file_extension": ".py",
   "mimetype": "text/x-python",
   "name": "python",
   "nbconvert_exporter": "python",
   "pygments_lexer": "ipython3",
   "version": "3.7.3"
  }
 },
 "nbformat": 4,
 "nbformat_minor": 2
}
