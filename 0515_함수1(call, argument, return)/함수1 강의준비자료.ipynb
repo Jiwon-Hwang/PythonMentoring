{
 "cells": [
  {
   "cell_type": "markdown",
   "metadata": {},
   "source": [
    "## [ 가변 매개변수 ]\n",
    "* 상황에 따라 **매개변수의 수(크기, 개수)가 달라질 때** 이용  \n",
    "* 따라서 **순서열(문자열, 리스트, 튜플 등 반복가능한 형)** 을 다룰 때 사용했던 연산들 모두 사용 가능\n",
    "> * 별 한 개( * ) : **튜플** 형식의 가변 매개변수  \n",
    "> * 별 두 개( ** ) : **딕셔너리** 형식의 가변 매개변수"
   ]
  },
  {
   "cell_type": "code",
   "execution_count": 6,
   "metadata": {},
   "outputs": [
    {
     "name": "stdout",
     "output_type": "stream",
     "text": [
      "('아버지가', '방에', '들어가신다.') <class 'tuple'>\n",
      "아버지가방에들어가신다.\n"
     ]
    }
   ],
   "source": [
    "# tuple형 가변 매개변수 (*)\n",
    "def merge_string(*text_list):\n",
    "    print(text_list, type(text_list)) # *을 이용해 정의한 '가변 매개변수' text_list ==> tuple형!\n",
    "    result = ''\n",
    "    for s in text_list:\n",
    "        result = result + s\n",
    "    return result\n",
    "\n",
    "a = merge_string('아버지가', '방에', '들어가신다.')\n",
    "\n",
    "print(a)"
   ]
  },
  {
   "cell_type": "code",
   "execution_count": 16,
   "metadata": {},
   "outputs": [
    {
     "name": "stdout",
     "output_type": "stream",
     "text": [
      "{'카시야스': 'GK', '호날두': 'FW', '알론소': 'MF', '페페': 'DF'} <class 'dict'>\n",
      "카시야스 = GK\n",
      "호날두 = FW\n",
      "알론소 = MF\n",
      "페페 = DF\n"
     ]
    }
   ],
   "source": [
    "# dictionary형 가변 매개변수 (**)\n",
    "def print_team(**players):\n",
    "    print(players, type(players)) # **을 이용해 정의한 '가변 매개변수' players ==> dictionary형! (* 한 개만 쓰면 error)\n",
    "    for k in players.keys():\n",
    "        print('{0} = {1}'.format(k, players[k]))\n",
    "\n",
    "print_team(카시야스='GK', 호날두='FW', 알론소='MF', 페페='DF') # 애초에 딕셔너리 형 인자를 넘겨주므로, **로 받아야 함"
   ]
  },
  {
   "cell_type": "markdown",
   "metadata": {},
   "source": [
    "대개 가변 매개변수만 단독으로 사용하는 경우보다, 일반 매개변수와 함께 사용하는 경우가 많다.  \n",
    "그러나, **정의 순서**에 따라 호출 방식이 달라짐!  \n",
    "> **가변 매개변수의 '앞'에 정의되는 일반 매개변수는 키워드 매개변수로 호출 불가!!**"
   ]
  },
  {
   "cell_type": "code",
   "execution_count": 21,
   "metadata": {},
   "outputs": [
    {
     "name": "stdout",
     "output_type": "stream",
     "text": [
      "argv1\n",
      "argv2\n",
      "argv3\n"
     ]
    }
   ],
   "source": [
    "# 1. 일반 매개변수 -> 가변 매개변수 순으로 호출\n",
    "def print_args(argc, *argv):\n",
    "    for i in range(argc):\n",
    "        print(argv[i])\n",
    "\n",
    "print_args(3, \"argv1\", \"argv2\", \"argv3\") # 키워드 매개변수 안쓰고 일반 매개변수로는 가변 앞에서 호출 가능"
   ]
  },
  {
   "cell_type": "code",
   "execution_count": 22,
   "metadata": {},
   "outputs": [
    {
     "ename": "SyntaxError",
     "evalue": "positional argument follows keyword argument (<ipython-input-22-3f6edbe08268>, line 1)",
     "output_type": "error",
     "traceback": [
      "\u001b[1;36m  File \u001b[1;32m\"<ipython-input-22-3f6edbe08268>\"\u001b[1;36m, line \u001b[1;32m1\u001b[0m\n\u001b[1;33m    print_args(argc=3, \"argv1\", \"argv2\", \"argv3\")\u001b[0m\n\u001b[1;37m                      ^\u001b[0m\n\u001b[1;31mSyntaxError\u001b[0m\u001b[1;31m:\u001b[0m positional argument follows keyword argument\n"
     ]
    }
   ],
   "source": [
    "print_args(argc=3, \"argv1\", \"argv2\", \"argv3\") # 가변 매개변수보다 앞에서 키워드 매개변수를 이용한 일반 매개변수로 호출 불가!"
   ]
  },
  {
   "cell_type": "code",
   "execution_count": 23,
   "metadata": {},
   "outputs": [
    {
     "name": "stdout",
     "output_type": "stream",
     "text": [
      "argv1\n",
      "argv2\n",
      "argv3\n"
     ]
    }
   ],
   "source": [
    "# 2. 가변 매개변수 -> 일반 매개변수 순으로 호출\n",
    "def print_args(*argv, argc):\n",
    "    for i in range(argc):\n",
    "        print(argv[i])\n",
    "\n",
    "print_args(\"argv1\", \"argv2\", \"argv3\", argc=3) # 가변 '뒤'에 일반 쓸 때는, 반드시 **키워드 매개변수**로 호출해야 함!"
   ]
  },
  {
   "cell_type": "code",
   "execution_count": 24,
   "metadata": {
    "scrolled": true
   },
   "outputs": [
    {
     "ename": "TypeError",
     "evalue": "print_args() missing 1 required keyword-only argument: 'argc'",
     "output_type": "error",
     "traceback": [
      "\u001b[1;31m---------------------------------------------------------------------------\u001b[0m",
      "\u001b[1;31mTypeError\u001b[0m                                 Traceback (most recent call last)",
      "\u001b[1;32m<ipython-input-24-8e1c25ab0e92>\u001b[0m in \u001b[0;36m<module>\u001b[1;34m\u001b[0m\n\u001b[1;32m----> 1\u001b[1;33m \u001b[0mprint_args\u001b[0m\u001b[1;33m(\u001b[0m\u001b[1;34m\"argv1\"\u001b[0m\u001b[1;33m,\u001b[0m \u001b[1;34m\"argv2\"\u001b[0m\u001b[1;33m,\u001b[0m \u001b[1;34m\"argv3\"\u001b[0m\u001b[1;33m,\u001b[0m \u001b[1;36m3\u001b[0m\u001b[1;33m)\u001b[0m\u001b[1;33m\u001b[0m\u001b[1;33m\u001b[0m\u001b[0m\n\u001b[0m",
      "\u001b[1;31mTypeError\u001b[0m: print_args() missing 1 required keyword-only argument: 'argc'"
     ]
    }
   ],
   "source": [
    "print_args(\"argv1\", \"argv2\", \"argv3\", 3) # 가변 '뒤'에 키워드로 호출 안하고 그냥 일반 매개변수로 호출하면 error"
   ]
  },
  {
   "cell_type": "markdown",
   "metadata": {},
   "source": [
    "### < 결론 >"
   ]
  },
  {
   "cell_type": "markdown",
   "metadata": {},
   "source": [
    "* 일반 매개변수를 가변보다 <b>앞</b>에 쓸 때 ==> 키워드 말고 **그냥 값으로** 호출  \n",
    "* 일반 매개변수를 가변보다 <b>뒤</b>에 쓸 때 ==> 반드시 **키워드 매개변수로** 호출"
   ]
  },
  {
   "cell_type": "markdown",
   "metadata": {},
   "source": [
    "<hr>"
   ]
  },
  {
   "cell_type": "markdown",
   "metadata": {},
   "source": [
    "## [ return (반환) ]\n",
    "* return문에 결과 데이터를 담아 실행 ==> 함수가 즉시 종료되고, 호출자에게 결과 전달\n",
    "* return문에 아무 결과도 넣지 않고 실행 ==> 함수가 즉시 종료, NoneType의 None 반환 (반환값 없음)\n",
    "* return문 생략 ==> 함수의 모든 코드가 실행되면 종료 (굳이 호출자로 다시 반환할 필요 없을 때)"
   ]
  },
  {
   "cell_type": "code",
   "execution_count": 28,
   "metadata": {},
   "outputs": [
    {
     "name": "stdout",
     "output_type": "stream",
     "text": [
      "None <class 'NoneType'>\n"
     ]
    }
   ],
   "source": [
    "def my_abs(arg):\n",
    "    if arg<0:\n",
    "        return arg * -1\n",
    "    elif arg>0:\n",
    "        return arg\n",
    "\n",
    "result = my_abs(0)\n",
    "print(result, type(result)) # 아무것도 반환하지 않은 채 실행 종료 (모든 코드 실행 후)"
   ]
  },
  {
   "cell_type": "code",
   "execution_count": 31,
   "metadata": {},
   "outputs": [
    {
     "name": "stdout",
     "output_type": "stream",
     "text": [
      "제 1의 아해\n",
      "제 2의 아해\n",
      "제 3의 아해\n",
      "\n",
      "제 1의 아해\n",
      "제 2의 아해\n",
      "제 3의 아해\n",
      "제 4의 아해\n",
      "제 5의 아해\n",
      "\n",
      "제 1의 아해\n",
      "제 2의 아해\n",
      "제 3의 아해\n",
      "제 4의 아해\n",
      "제 5의 아해\n"
     ]
    }
   ],
   "source": [
    "# return문에 아무 결과도 넣지 않고 return 만 쓰기\n",
    "def ogamdo(num):\n",
    "    for i in range(1, num+1):\n",
    "        print('제 {0}의 아해'.format(i))\n",
    "        if i == 5:\n",
    "            return   # 반환할 데이터 없이 return만 ==> '반환'의 의미가 아닌 '종료'의 의미!\n",
    "\n",
    "ogamdo(3)\n",
    "print()\n",
    "ogamdo(5)\n",
    "print()\n",
    "ogamdo(8) # return문에 의해서 i=5에서 함수 종료"
   ]
  }
 ],
 "metadata": {
  "kernelspec": {
   "display_name": "Python 3",
   "language": "python",
   "name": "python3"
  },
  "language_info": {
   "codemirror_mode": {
    "name": "ipython",
    "version": 3
   },
   "file_extension": ".py",
   "mimetype": "text/x-python",
   "name": "python",
   "nbconvert_exporter": "python",
   "pygments_lexer": "ipython3",
   "version": "3.7.3"
  }
 },
 "nbformat": 4,
 "nbformat_minor": 2
}
